{
 "cells": [
  {
   "cell_type": "markdown",
   "metadata": {},
   "source": [
    "# Load the Dataset"
   ]
  },
  {
   "cell_type": "code",
   "execution_count": 2,
   "metadata": {},
   "outputs": [
    {
     "name": "stdout",
     "output_type": "stream",
     "text": [
      "Date\n",
      "2005-01-01    354\n",
      "2005-01-02    355\n",
      "2005-01-03    357\n",
      "2005-01-04    359\n",
      "2005-01-05    361\n",
      "Name: ETR, dtype: int64\n"
     ]
    },
    {
     "data": {
      "text/plain": [
       "<Figure size 640x480 with 1 Axes>"
      ]
     },
     "metadata": {},
     "output_type": "display_data"
    }
   ],
   "source": [
    "# load and plot dataset\n",
    "from pandas import read_csv\n",
    "from pandas import datetime\n",
    "from matplotlib import pyplot\n",
    "# load dataset\n",
    "def parser(x):\n",
    "    return datetime.strptime(x, '%Y-%m-%d')\n",
    "series = read_csv('chicagodata.csv', header=0, parse_dates=[0], index_col=0, squeeze=True, date_parser=parser)\n",
    "# summarize first few rows\n",
    "print(series.head())\n",
    "# line plot\n",
    "series.plot()\n",
    "pyplot.show()"
   ]
  },
  {
   "cell_type": "code",
   "execution_count": 3,
   "metadata": {},
   "outputs": [],
   "source": [
    "import pandas as pd\n",
    "import numpy as np\n",
    "import matplotlib.pyplot as plt\n",
    "import statsmodels.api as sm\n",
    "from statsmodels.tsa.stattools import adfuller"
   ]
  },
  {
   "cell_type": "code",
   "execution_count": 4,
   "metadata": {},
   "outputs": [],
   "source": [
    "%matplotlib inline"
   ]
  },
  {
   "cell_type": "code",
   "execution_count": 5,
   "metadata": {},
   "outputs": [],
   "source": [
    "df = read_csv('chicagodata.csv')"
   ]
  },
  {
   "cell_type": "code",
   "execution_count": 6,
   "metadata": {},
   "outputs": [
    {
     "data": {
      "text/html": [
       "<div>\n",
       "<style scoped>\n",
       "    .dataframe tbody tr th:only-of-type {\n",
       "        vertical-align: middle;\n",
       "    }\n",
       "\n",
       "    .dataframe tbody tr th {\n",
       "        vertical-align: top;\n",
       "    }\n",
       "\n",
       "    .dataframe thead th {\n",
       "        text-align: right;\n",
       "    }\n",
       "</style>\n",
       "<table border=\"1\" class=\"dataframe\">\n",
       "  <thead>\n",
       "    <tr style=\"text-align: right;\">\n",
       "      <th></th>\n",
       "      <th>Date</th>\n",
       "      <th>ETR</th>\n",
       "    </tr>\n",
       "  </thead>\n",
       "  <tbody>\n",
       "    <tr>\n",
       "      <th>0</th>\n",
       "      <td>2005-01-01</td>\n",
       "      <td>354</td>\n",
       "    </tr>\n",
       "    <tr>\n",
       "      <th>1</th>\n",
       "      <td>2005-01-02</td>\n",
       "      <td>355</td>\n",
       "    </tr>\n",
       "    <tr>\n",
       "      <th>2</th>\n",
       "      <td>2005-01-03</td>\n",
       "      <td>357</td>\n",
       "    </tr>\n",
       "    <tr>\n",
       "      <th>3</th>\n",
       "      <td>2005-01-04</td>\n",
       "      <td>359</td>\n",
       "    </tr>\n",
       "    <tr>\n",
       "      <th>4</th>\n",
       "      <td>2005-01-05</td>\n",
       "      <td>361</td>\n",
       "    </tr>\n",
       "  </tbody>\n",
       "</table>\n",
       "</div>"
      ],
      "text/plain": [
       "         Date  ETR\n",
       "0  2005-01-01  354\n",
       "1  2005-01-02  355\n",
       "2  2005-01-03  357\n",
       "3  2005-01-04  359\n",
       "4  2005-01-05  361"
      ]
     },
     "execution_count": 6,
     "metadata": {},
     "output_type": "execute_result"
    }
   ],
   "source": [
    "df.head()"
   ]
  },
  {
   "cell_type": "code",
   "execution_count": 7,
   "metadata": {},
   "outputs": [
    {
     "data": {
      "text/plain": [
       "[<matplotlib.lines.Line2D at 0x7f5a44835320>]"
      ]
     },
     "execution_count": 7,
     "metadata": {},
     "output_type": "execute_result"
    },
    {
     "data": {
      "image/png": "[encoded data removed]",
      "text/plain": [
       "<Figure size 432x288 with 1 Axes>"
      ]
     },
     "metadata": {
      "needs_background": "light"
     },
     "output_type": "display_data"
    }
   ],
   "source": [
    "plt.plot(df['ETR'])"
   ]
  },
  {
   "cell_type": "markdown",
   "metadata": {},
   "source": [
    "# Dickey-Fuller Stationarity Test"
   ]
  },
  {
   "cell_type": "code",
   "execution_count": 8,
   "metadata": {},
   "outputs": [
    {
     "name": "stdout",
     "output_type": "stream",
     "text": [
      "ADF Statistic: -4.421459\n",
      "p-value: 0.000272\n",
      "Critical Values:\n",
      "\t1%: -3.434\n",
      "\t5%: -2.863\n",
      "\t10%: -2.568\n",
      "Reject Ho Null Hypothesis is Stationary\n"
     ]
    }
   ],
   "source": [
    "X = df['ETR'].values\n",
    "result = adfuller(X)\n",
    "print('ADF Statistic: %f' % result[0])\n",
    "print('p-value: %f' % result[1])\n",
    "print('Critical Values:')\n",
    "for key, value in result[4].items():\n",
    "    print('\\t%s: %.3f' % (key,value))\n",
    "\n",
    "if result[0] < result[4]['5%']:\n",
    "    print (\"Reject Ho Null Hypothesis is Stationary\")\n",
    "else:\n",
    "    print(\"Failed to reject Ho - Time Series is Non Stationary\")\n"
   ]
  },
  {
   "cell_type": "markdown",
   "metadata": {},
   "source": [
    "# ARIMA (1,0,1) Test"
   ]
  },
  {
   "cell_type": "code",
   "execution_count": 9,
   "metadata": {},
   "outputs": [
    {
     "name": "stdout",
     "output_type": "stream",
     "text": [
      "Test RMSE: 5.938\n",
      "Test MAE: 3.677\n"
     ]
    },
    {
     "data": {
      "image/png": "[encoded data removed]",
      "text/plain": [
       "<Figure size 432x288 with 1 Axes>"
      ]
     },
     "metadata": {
      "needs_background": "light"
     },
     "output_type": "display_data"
    }
   ],
   "source": [
    "from pandas import read_csv\n",
    "from pandas import datetime\n",
    "from matplotlib import pyplot\n",
    "from statsmodels.tsa.arima_model import ARIMA\n",
    "from sklearn.metrics import mean_squared_error\n",
    "from sklearn.metrics import mean_absolute_error\n",
    "from math import sqrt\n",
    "# load dataset\n",
    "def parser(x):\n",
    "    return datetime.strptime(x, '%Y-%m-%d')\n",
    "series = read_csv('chicagodata.csv', header=0, parse_dates=[0], index_col=0, squeeze=True, date_parser=parser)\n",
    "# split into train and test sets\n",
    "X = series.values\n",
    "train, test = X[0:-365], X[-365:]\n",
    "history = [x for x in train]\n",
    "predictions = list()\n",
    "# walk-forward validation\n",
    "for t in range(len(test)):\n",
    "    # fit model\n",
    "    model = ARIMA(history, order=(1,0,1))\n",
    "    model_fit = model.fit()\n",
    "    # one step forecast\n",
    "    yhat = model_fit.forecast()[0]\n",
    "    # store forecast and ob\n",
    "    predictions.append(yhat)\n",
    "    history.append(test[t])\n",
    "# evaluate forecasts\n",
    "rmse = sqrt(mean_squared_error(test, predictions))\n",
    "print('Test RMSE: %.3f' % rmse)\n",
    "mae = mean_absolute_error(test, predictions)\n",
    "print('Test MAE: %.3f' % mae)\n",
    "# plot forecasts against actual outcomes\n",
    "pyplot.plot(test)\n",
    "pyplot.plot(predictions, color='red')\n",
    "pyplot.show()"
   ]
  },
  {
   "cell_type": "code",
   "execution_count": 10,
   "metadata": {},
   "outputs": [
    {
     "name": "stdout",
     "output_type": "stream",
     "text": [
      "                              ARMA Model Results                              \n",
      "==============================================================================\n",
      "Dep. Variable:                      y   No. Observations:                 1461\n",
      "Model:                     ARMA(1, 1)   Log Likelihood               -4689.812\n",
      "Method:                       css-mle   S.D. of innovations              5.982\n",
      "Date:                Sat, 20 Jun 2020   AIC                           9387.624\n",
      "Time:                        14:21:48   BIC                           9408.772\n",
      "Sample:                             0   HQIC                          9395.513\n",
      "                                                                              \n",
      "==============================================================================\n",
      "                 coef    std err          z      P>|z|      [0.025      0.975]\n",
      "------------------------------------------------------------------------------\n",
      "const        441.1629    165.490      2.666      0.008     116.808     765.517\n",
      "ar.L1.y        0.9993      0.001   1643.889      0.000       0.998       1.001\n",
      "ma.L1.y        0.1840      0.022      8.220      0.000       0.140       0.228\n",
      "                                    Roots                                    \n",
      "=============================================================================\n",
      "                  Real          Imaginary           Modulus         Frequency\n",
      "-----------------------------------------------------------------------------\n",
      "AR.1            1.0007           +0.0000j            1.0007            0.0000\n",
      "MA.1           -5.4347           +0.0000j            5.4347            0.5000\n",
      "-----------------------------------------------------------------------------\n"
     ]
    }
   ],
   "source": [
    "# fit model\n",
    "model = ARIMA(train, order=(1,0,1))\n",
    "model_fit = model.fit(disp=0)\n",
    "# print summary of fit model\n",
    "print(model_fit.summary())"
   ]
  },
  {
   "cell_type": "markdown",
   "metadata": {},
   "source": [
    "# ARIMA (1,0,0) Test"
   ]
  },
  {
   "cell_type": "code",
   "execution_count": 10,
   "metadata": {},
   "outputs": [
    {
     "name": "stdout",
     "output_type": "stream",
     "text": [
      "Test RMSE: 6.087\n",
      "Test MAE: 4.094\n"
     ]
    },
    {
     "data": {
      "image/png": "[encoded data removed]",
      "text/plain": [
       "<Figure size 432x288 with 1 Axes>"
      ]
     },
     "metadata": {
      "needs_background": "light"
     },
     "output_type": "display_data"
    }
   ],
   "source": [
    "from pandas import read_csv\n",
    "from pandas import datetime\n",
    "from matplotlib import pyplot\n",
    "from statsmodels.tsa.arima_model import ARIMA\n",
    "from sklearn.metrics import mean_squared_error\n",
    "from sklearn.metrics import mean_absolute_error\n",
    "from math import sqrt\n",
    "# load dataset\n",
    "def parser(x):\n",
    "    return datetime.strptime(x, '%Y-%m-%d')\n",
    "series = read_csv('chicagodata.csv', header=0, parse_dates=[0], index_col=0, squeeze=True, date_parser=parser)\n",
    "# split into train and test sets\n",
    "X = series.values\n",
    "train, test = X[0:-365], X[-365:]\n",
    "history = [x for x in train]\n",
    "predictions = list()\n",
    "# walk-forward validation\n",
    "for t in range(len(test)):\n",
    "    # fit model\n",
    "    model = ARIMA(history, order=(1,0,0))\n",
    "    model_fit = model.fit()\n",
    "    # one step forecast\n",
    "    yhat = model_fit.forecast()[0]\n",
    "    # store forecast and ob\n",
    "    predictions.append(yhat)\n",
    "    history.append(test[t])\n",
    "# evaluate forecasts\n",
    "rmse = sqrt(mean_squared_error(test, predictions))\n",
    "print('Test RMSE: %.3f' % rmse)\n",
    "mae = mean_absolute_error(test, predictions)\n",
    "print('Test MAE: %.3f' % mae)\n",
    "# plot forecasts against actual outcomes\n",
    "pyplot.plot(test)\n",
    "pyplot.plot(predictions, color='red')\n",
    "pyplot.show()"
   ]
  },
  {
   "cell_type": "code",
   "execution_count": 10,
   "metadata": {},
   "outputs": [
    {
     "name": "stdout",
     "output_type": "stream",
     "text": [
      "                              ARMA Model Results                              \n",
      "==============================================================================\n",
      "Dep. Variable:                      y   No. Observations:                 1461\n",
      "Model:                     ARMA(1, 0)   Log Likelihood               -4723.122\n",
      "Method:                       css-mle   S.D. of innovations              6.120\n",
      "Date:                Fri, 19 Jun 2020   AIC                           9452.244\n",
      "Time:                        22:11:48   BIC                           9468.105\n",
      "Sample:                             0   HQIC                          9458.161\n",
      "                                                                              \n",
      "==============================================================================\n",
      "                 coef    std err          z      P>|z|      [0.025      0.975]\n",
      "------------------------------------------------------------------------------\n",
      "const        428.3433    164.707      2.601      0.009     105.524     751.162\n",
      "ar.L1.y        0.9995      0.000   2014.937      0.000       0.998       1.000\n",
      "                                    Roots                                    \n",
      "=============================================================================\n",
      "                  Real          Imaginary           Modulus         Frequency\n",
      "-----------------------------------------------------------------------------\n",
      "AR.1            1.0005           +0.0000j            1.0005            0.0000\n",
      "-----------------------------------------------------------------------------\n"
     ]
    }
   ],
   "source": [
    "# fit model\n",
    "model = ARIMA(train, order=(1,0,0))\n",
    "model_fit = model.fit(disp=0)\n",
    "# print summary of fit model\n",
    "print(model_fit.summary())"
   ]
  },
  {
   "cell_type": "markdown",
   "metadata": {},
   "source": [
    "# ARIMA (0,0,1) Test"
   ]
  },
  {
   "cell_type": "code",
   "execution_count": 9,
   "metadata": {},
   "outputs": [
    {
     "name": "stdout",
     "output_type": "stream",
     "text": [
      "Test RMSE: 94.989\n",
      "Test MAE: 85.192\n"
     ]
    },
    {
     "data": {
      "image/png": "[encoded data removed]",
      "text/plain": [
       "<Figure size 432x288 with 1 Axes>"
      ]
     },
     "metadata": {
      "needs_background": "light"
     },
     "output_type": "display_data"
    }
   ],
   "source": [
    "from pandas import read_csv\n",
    "from pandas import datetime\n",
    "from matplotlib import pyplot\n",
    "from statsmodels.tsa.arima_model import ARIMA\n",
    "from sklearn.metrics import mean_squared_error\n",
    "from sklearn.metrics import mean_absolute_error\n",
    "from math import sqrt\n",
    "# load dataset\n",
    "def parser(x):\n",
    "    return datetime.strptime(x, '%Y-%m-%d')\n",
    "series = read_csv('chicagodata.csv', header=0, parse_dates=[0], index_col=0, squeeze=True, date_parser=parser)\n",
    "# split into train and test sets\n",
    "X = series.values\n",
    "train, test = X[0:-365], X[-365:]\n",
    "history = [x for x in train]\n",
    "predictions = list()\n",
    "# walk-forward validation\n",
    "for t in range(len(test)):\n",
    "    # fit model\n",
    "    model = ARIMA(history, order=(0,0,1))\n",
    "    model_fit = model.fit()\n",
    "    # one step forecast\n",
    "    yhat = model_fit.forecast()[0]\n",
    "    # store forecast and ob\n",
    "    predictions.append(yhat)\n",
    "    history.append(test[t])\n",
    "# evaluate forecasts\n",
    "rmse = sqrt(mean_squared_error(test, predictions))\n",
    "print('Test RMSE: %.3f' % rmse)\n",
    "mae = mean_absolute_error(test, predictions)\n",
    "print('Test MAE: %.3f' % mae)\n",
    "# plot forecasts against actual outcomes\n",
    "pyplot.plot(test)\n",
    "pyplot.plot(predictions, color='red')\n",
    "pyplot.show()"
   ]
  },
  {
   "cell_type": "code",
   "execution_count": 11,
   "metadata": {},
   "outputs": [
    {
     "name": "stdout",
     "output_type": "stream",
     "text": [
      "                              ARMA Model Results                              \n",
      "==============================================================================\n",
      "Dep. Variable:                      y   No. Observations:                 1461\n",
      "Model:                     ARMA(0, 1)   Log Likelihood               -8733.709\n",
      "Method:                       css-mle   S.D. of innovations             95.379\n",
      "Date:                Fri, 19 Jun 2020   AIC                          17473.418\n",
      "Time:                        22:12:26   BIC                          17489.279\n",
      "Sample:                             0   HQIC                         17479.335\n",
      "                                                                              \n",
      "==============================================================================\n",
      "                 coef    std err          z      P>|z|      [0.025      0.975]\n",
      "------------------------------------------------------------------------------\n",
      "const        617.6341      4.938    125.077      0.000     607.956     627.312\n",
      "ma.L1.y        0.9796      0.004    277.109      0.000       0.973       0.986\n",
      "                                    Roots                                    \n",
      "=============================================================================\n",
      "                  Real          Imaginary           Modulus         Frequency\n",
      "-----------------------------------------------------------------------------\n",
      "MA.1           -1.0209           +0.0000j            1.0209            0.5000\n",
      "-----------------------------------------------------------------------------\n"
     ]
    }
   ],
   "source": [
    "# fit model\n",
    "model = ARIMA(train, order=(0,0,1))\n",
    "model_fit = model.fit(disp=0)\n",
    "# print summary of fit model\n",
    "print(model_fit.summary())"
   ]
  },
  {
   "cell_type": "code",
   "execution_count": null,
   "metadata": {},
   "outputs": [
    {
     "name": "stderr",
     "output_type": "stream",
     "text": [
      "/opt/tljh/user/lib/python3.6/site-packages/statsmodels/tsa/kalmanf/kalmanfilter.py:221: RuntimeWarning: divide by zero encountered in true_divide\n",
      "  Z_mat, R_mat, T_mat)\n",
      "/opt/tljh/user/lib/python3.6/site-packages/statsmodels/tsa/tsatools.py:668: RuntimeWarning: overflow encountered in exp\n",
      "  newparams = ((1-np.exp(-params))/(1+np.exp(-params))).copy()\n",
      "/opt/tljh/user/lib/python3.6/site-packages/statsmodels/tsa/tsatools.py:668: RuntimeWarning: invalid value encountered in true_divide\n",
      "  newparams = ((1-np.exp(-params))/(1+np.exp(-params))).copy()\n",
      "/opt/tljh/user/lib/python3.6/site-packages/statsmodels/tsa/tsatools.py:669: RuntimeWarning: overflow encountered in exp\n",
      "  tmp = ((1-np.exp(-params))/(1+np.exp(-params))).copy()\n",
      "/opt/tljh/user/lib/python3.6/site-packages/statsmodels/tsa/tsatools.py:669: RuntimeWarning: invalid value encountered in true_divide\n",
      "  tmp = ((1-np.exp(-params))/(1+np.exp(-params))).copy()\n"
     ]
    }
   ],
   "source": [
    "from pandas import read_csv\n",
    "from pandas import datetime\n",
    "from matplotlib import pyplot\n",
    "from statsmodels.tsa.arima_model import ARIMA\n",
    "from sklearn.metrics import mean_squared_error\n",
    "from sklearn.metrics import mean_absolute_error\n",
    "from math import sqrt\n",
    "from time import time\n",
    "# load dataset\n",
    "def parser(x):\n",
    "    return datetime.strptime(x, '%Y-%m-%d')\n",
    "series = read_csv('chicagodata.csv', header=0, parse_dates=[0], index_col=0, squeeze=True, date_parser=parser)\n",
    "# split into train and test sets\n",
    "X = series.values\n",
    "size = int(len(X) * 0.66)\n",
    "train, test = X[0:size], X[size:len(X)]\n",
    "# solvers\n",
    "solvers = ['lbfgs', 'bfgs', 'newton', 'nm', 'cg', 'ncg', 'powell']\n",
    "scores = []\n",
    "times = []\n",
    "for solver in solvers:\n",
    "    start_time = time()\n",
    "    history = [x for x in train]\n",
    "    predictions = list()\n",
    "    # walk-forward validation\n",
    "    for t in range(len(test)):\n",
    "        # fit model\n",
    "        model = ARIMA(history, order=(1,0,1))\n",
    "        model_fit = model.fit(disp=False, solver=solver)\n",
    "        # one step forecast\n",
    "        yhat = model_fit.forecast()[0]\n",
    "        # store forecast and ob\n",
    "        predictions.append(yhat)\n",
    "        history.append(test[t])\n",
    "    # evaluate forecasts\n",
    "    rmse = sqrt(mean_squared_error(test, predictions))\n",
    "    mae = mean_absolute_error(test, predictions)\n",
    "    timing = time() - start_time\n",
    "    scores.append(rmse)\n",
    "    times.append(timing)\n",
    "    print('Solver=%s, Test RMSE: %.3f, Test MAE: %.3f, Time=%f' % (solver, rmse, mae, timing))\n",
    "# plot scores\n",
    "ticks = [i for i in range(len(solvers))]\n",
    "pyplot.bar(ticks, scores)\n",
    "pyplot.xticks(ticks, solvers)\n",
    "pyplot.show()\n",
    "# plot times\n",
    "ticks = [i for i in range(len(solvers))]\n",
    "pyplot.bar(ticks, times)\n",
    "pyplot.xticks(ticks, solvers)\n",
    "pyplot.show()"
   ]
  },
  {
   "cell_type": "code",
   "execution_count": 11,
   "metadata": {},
   "outputs": [
    {
     "name": "stdout",
     "output_type": "stream",
     "text": [
      "            ETR\n",
      "Date           \n",
      "2005-01-01  354\n",
      "2005-01-02  355\n",
      "2005-01-03  357\n",
      "2005-01-04  359\n",
      "2005-01-05  361\n",
      "2005-01-06  363\n",
      "2005-01-07  366\n",
      "2005-01-08  369\n",
      "2005-01-09  371\n",
      "2005-01-10  374\n",
      "2005-01-11  377\n",
      "2005-01-12  380\n",
      "2005-01-13  383\n",
      "2005-01-14  386\n",
      "2005-01-15  390\n",
      "2005-01-16  394\n",
      "2005-01-17  397\n",
      "2005-01-18  401\n",
      "2005-01-19  405\n",
      "2005-01-20  409\n"
     ]
    },
    {
     "data": {
      "image/png": "[encoded data removed]",
      "text/plain": [
       "<Figure size 432x288 with 1 Axes>"
      ]
     },
     "metadata": {
      "needs_background": "light"
     },
     "output_type": "display_data"
    }
   ],
   "source": [
    "# line plot of time series\n",
    "from pandas import read_csv\n",
    "from matplotlib import pyplot\n",
    "# load dataset\n",
    "series = read_csv('chicagodata.csv', header=0, index_col=0)\n",
    "# display first few rows\n",
    "print(series.head(20))\n",
    "# line plot of dataset\n",
    "series.plot()\n",
    "pyplot.show()"
   ]
  },
  {
   "cell_type": "code",
   "execution_count": 12,
   "metadata": {},
   "outputs": [
    {
     "name": "stdout",
     "output_type": "stream",
     "text": [
      "Chicago Train 1461, Chicago Test 365\n"
     ]
    }
   ],
   "source": [
    "# split the dataset\n",
    "from pandas import read_csv\n",
    "series = read_csv('chicagodata.csv', header=0, index_col=0)\n",
    "split_point = len(series) - 365\n",
    "dataset, validation = series[0:split_point], series[split_point:]\n",
    "print('Chicago Train %d, Chicago Test %d' % (len(dataset), len(validation)))\n",
    "dataset.to_csv('chicagotrain.csv', index=False)\n",
    "validation.to_csv('chicagotest.csv', index=False)"
   ]
  },
  {
   "cell_type": "markdown",
   "metadata": {},
   "source": [
    "# One-Step Out of Sample Forecast - ARIMA (1,0,1)"
   ]
  },
  {
   "cell_type": "code",
   "execution_count": 14,
   "metadata": {},
   "outputs": [],
   "source": [
    "# one-step out-of sample forecast\n",
    "forecast = model_fit.forecast()[0]"
   ]
  },
  {
   "cell_type": "code",
   "execution_count": 16,
   "metadata": {},
   "outputs": [
    {
     "name": "stdout",
     "output_type": "stream",
     "text": [
      "Forecast: 352.172667\n"
     ]
    }
   ],
   "source": [
    "from pandas import read_csv\n",
    "from statsmodels.tsa.arima_model import ARIMA\n",
    "import numpy\n",
    "\n",
    "# fit model\n",
    "model = ARIMA(train, order=(1,0,1))\n",
    "model_fit = model.fit(disp=0)\n",
    "# one-step out-of sample forecast\n",
    "forecast = model_fit.forecast()[0]\n",
    "print('Forecast: %f' % forecast)"
   ]
  },
  {
   "cell_type": "markdown",
   "metadata": {},
   "source": [
    "### Take-Aways\n",
    "* This is the forecast for the first day in the test data set.\n",
    "* The real value for this day, January 1st 2009, is 354.\n",
    "* The model is very accurate with its predicted ETR value of 352."
   ]
  },
  {
   "cell_type": "markdown",
   "metadata": {},
   "source": [
    "# One-Step Out of Sample Forecast - ARIMA (1,0,0)"
   ]
  },
  {
   "cell_type": "code",
   "execution_count": 14,
   "metadata": {},
   "outputs": [],
   "source": [
    "# one-step out-of sample forecast\n",
    "forecast = model_fit.forecast()[0]"
   ]
  },
  {
   "cell_type": "code",
   "execution_count": 22,
   "metadata": {},
   "outputs": [
    {
     "name": "stdout",
     "output_type": "stream",
     "text": [
      "Forecast: 352.041430\n"
     ]
    }
   ],
   "source": [
    "from pandas import read_csv\n",
    "from statsmodels.tsa.arima_model import ARIMA\n",
    "import numpy\n",
    "\n",
    "# fit model\n",
    "model = ARIMA(train, order=(1,0,0))\n",
    "model_fit = model.fit(disp=0)\n",
    "# one-step out-of sample forecast\n",
    "forecast = model_fit.forecast()[0]\n",
    "print('Forecast: %f' % forecast)"
   ]
  },
  {
   "cell_type": "markdown",
   "metadata": {},
   "source": [
    "### Take-Aways\n",
    "* Although the forecast is still close to the real value, ARIMA (1,0,1) did a fractionally better job of predicting the value."
   ]
  }
 ],
 "metadata": {
  "kernelspec": {
   "display_name": "Python 3",
   "language": "python",
   "name": "python3"
  },
  "language_info": {
   "codemirror_mode": {
    "name": "ipython",
    "version": 3
   },
   "file_extension": ".py",
   "mimetype": "text/x-python",
   "name": "python",
   "nbconvert_exporter": "python",
   "pygments_lexer": "ipython3",
   "version": "3.6.7"
  }
 },
 "nbformat": 4,
 "nbformat_minor": 4
}
